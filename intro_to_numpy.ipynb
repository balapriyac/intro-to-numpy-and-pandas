{
  "nbformat": 4,
  "nbformat_minor": 0,
  "metadata": {
    "colab": {
      "provenance": []
    },
    "kernelspec": {
      "name": "python3",
      "display_name": "Python 3"
    },
    "language_info": {
      "name": "python"
    }
  },
  "cells": [
    {
      "cell_type": "markdown",
      "source": [
        "NumPy (Numerical Python) is the fundamental package for scientific computing in Python. It provides support for large, multi-dimensional arrays and matrices, along with a collection of mathematical functions to operate on these arrays.\n",
        "\n",
        "### Why NumPy?\n",
        "- Performance: Operations are implemented in C, making them much faster than pure Python\n",
        "- Memory efficiency: Compact storage of homogeneous data\n",
        "- Broadcasting: Automatic handling of different array shapes\n",
        "- Vectorization: Apply operations to entire arrays at once"
      ],
      "metadata": {
        "id": "rQbbIdfXue4X"
      }
    },
    {
      "cell_type": "code",
      "source": [
        "import numpy as np"
      ],
      "metadata": {
        "id": "VT1Zo7T49IoY"
      },
      "execution_count": null,
      "outputs": []
    },
    {
      "cell_type": "markdown",
      "source": [
        "## 1. Array Creation\n",
        "\n",
        "NumPy arrays are the core data structure. Unlike Python lists, NumPy arrays are homogeneous (all elements have the same data type) and can be multi-dimensional.\n"
      ],
      "metadata": {
        "id": "cdJf5Bom8xzd"
      }
    },
    {
      "cell_type": "code",
      "source": [
        "# Creating arrays from lists\n",
        "arr1 = np.array([1, 2, 3, 4, 5])\n",
        "print(\"1D Array:\", arr1)\n",
        "print(\"Type:\", type(arr1))\n",
        "\n",
        "# 2D array\n",
        "arr2 = np.array([[1, 2, 3], [4, 5, 6]])\n",
        "print(\"2D Array:\\n\", arr2)\n",
        "\n",
        "# Array with specific data type\n",
        "arr3 = np.array([1, 2, 3], dtype=np.float64)\n",
        "print(\"Float array:\", arr3)\n",
        "print(\"Data type:\", arr3.dtype)\n"
      ],
      "metadata": {
        "colab": {
          "base_uri": "https://localhost:8080/"
        },
        "id": "ycpAA6Ql9CL2",
        "outputId": "1a5c2e18-0e68-43ac-d2c6-2182acb5cf77"
      },
      "execution_count": null,
      "outputs": [
        {
          "output_type": "stream",
          "name": "stdout",
          "text": [
            "1D Array: [1 2 3 4 5]\n",
            "Type: <class 'numpy.ndarray'>\n",
            "2D Array:\n",
            " [[1 2 3]\n",
            " [4 5 6]]\n",
            "Float array: [1. 2. 3.]\n",
            "Data type: float64\n"
          ]
        }
      ]
    },
    {
      "cell_type": "markdown",
      "source": [
        "NumPy provides many convenient functions to create arrays with specific patterns:"
      ],
      "metadata": {
        "id": "ileIS8DO88g8"
      }
    },
    {
      "cell_type": "code",
      "execution_count": null,
      "metadata": {
        "id": "gbQ9FDPcOdwS",
        "colab": {
          "base_uri": "https://localhost:8080/"
        },
        "outputId": "a2d561eb-d688-4830-d4f9-002006b0cbff"
      },
      "outputs": [
        {
          "output_type": "stream",
          "name": "stdout",
          "text": [
            "Zeros array:\n",
            " [[0. 0. 0. 0.]\n",
            " [0. 0. 0. 0.]\n",
            " [0. 0. 0. 0.]]\n",
            "Ones array:\n",
            " [[1. 1. 1.]\n",
            " [1. 1. 1.]]\n",
            "Range array: [0 2 4 6 8]\n",
            "Linspace array: [0.   0.25 0.5  0.75 1.  ]\n",
            "Identity matrix:\n",
            " [[1. 0. 0.]\n",
            " [0. 1. 0.]\n",
            " [0. 0. 1.]]\n",
            "Random array:\n",
            " [[0.37454012 0.95071431 0.73199394]\n",
            " [0.59865848 0.15601864 0.15599452]]\n"
          ]
        }
      ],
      "source": [
        "# Array of zeros\n",
        "zeros = np.zeros((3, 4))\n",
        "print(\"Zeros array:\\n\", zeros)\n",
        "\n",
        "# Array of ones\n",
        "ones = np.ones((2, 3))\n",
        "print(\"Ones array:\\n\", ones)\n",
        "\n",
        "# Array with range of values\n",
        "range_arr = np.arange(0, 10, 2)\n",
        "print(\"Range array:\", range_arr)\n",
        "\n",
        "# Linearly spaced array\n",
        "linspace_arr = np.linspace(0, 1, 5)\n",
        "print(\"Linspace array:\", linspace_arr)\n",
        "\n",
        "# Identity matrix\n",
        "identity = np.eye(3)\n",
        "print(\"Identity matrix:\\n\", identity)\n",
        "\n",
        "# Random arrays\n",
        "np.random.seed(42)  # For reproducibility\n",
        "random_arr = np.random.random((2, 3))\n",
        "print(\"Random array:\\n\", random_arr)\n"
      ]
    },
    {
      "cell_type": "markdown",
      "source": [
        "## 2. Array Properties and Basic Information\n",
        "Understanding your array's properties is crucial for effective data manipulation.\n"
      ],
      "metadata": {
        "id": "q7dAJF7q9TMa"
      }
    },
    {
      "cell_type": "code",
      "source": [
        "# Create a sample array\n",
        "sample_arr = np.array([[1, 2, 3, 4], [5, 6, 7, 8], [9, 10, 11, 12]])\n",
        "\n",
        "print(\"Array:\\n\", sample_arr)\n",
        "print(\"Shape:\", sample_arr.shape)\n",
        "print(\"Size (total elements):\", sample_arr.size)\n",
        "print(\"Dimensions:\", sample_arr.ndim)\n",
        "print(\"Data type:\", sample_arr.dtype)\n",
        "print(\"Item size (bytes):\", sample_arr.itemsize)\n",
        "print(\"Total memory (bytes):\", sample_arr.nbytes)\n"
      ],
      "metadata": {
        "id": "kG9lrBh63_Hu",
        "colab": {
          "base_uri": "https://localhost:8080/"
        },
        "outputId": "e7d48be5-1661-427e-bad1-4851ba34372c"
      },
      "execution_count": null,
      "outputs": [
        {
          "output_type": "stream",
          "name": "stdout",
          "text": [
            "Array:\n",
            " [[ 1  2  3  4]\n",
            " [ 5  6  7  8]\n",
            " [ 9 10 11 12]]\n",
            "Shape: (3, 4)\n",
            "Size (total elements): 12\n",
            "Dimensions: 2\n",
            "Data type: int64\n",
            "Item size (bytes): 8\n",
            "Total memory (bytes): 96\n"
          ]
        }
      ]
    },
    {
      "cell_type": "markdown",
      "source": [
        "### Boolean Indexing\n",
        "Boolean indexing allows you to select elements based on conditions:\n"
      ],
      "metadata": {
        "id": "2BHvXVU_9eD-"
      }
    },
    {
      "cell_type": "code",
      "source": [
        "# Boolean indexing\n",
        "data = np.array([1, 2, 3, 4, 5, 6, 7, 8, 9, 10])\n",
        "condition = data > 5\n",
        "print(\"Original array:\", data)\n",
        "print(\"Condition (> 5):\", condition)\n",
        "print(\"Elements > 5:\", data[condition])\n",
        "\n",
        "# Multiple conditions\n",
        "complex_condition = (data > 3) & (data < 8)\n",
        "print(\"Elements between 3 and 8:\", data[complex_condition])\n",
        "\n",
        "# Modifying values with boolean indexing\n",
        "data_copy = data.copy()\n",
        "data_copy[data_copy > 7] = 0\n",
        "print(\"Array with values > 7 set to 0:\", data_copy)\n"
      ],
      "metadata": {
        "id": "iyvASkFN4AKR",
        "colab": {
          "base_uri": "https://localhost:8080/"
        },
        "outputId": "f682c472-82c3-4a31-d3b2-ffbf2f2dadf4"
      },
      "execution_count": null,
      "outputs": [
        {
          "output_type": "stream",
          "name": "stdout",
          "text": [
            "Original array: [ 1  2  3  4  5  6  7  8  9 10]\n",
            "Condition (> 5): [False False False False False  True  True  True  True  True]\n",
            "Elements > 5: [ 6  7  8  9 10]\n",
            "Elements between 3 and 8: [4 5 6 7]\n",
            "Array with values > 7 set to 0: [1 2 3 4 5 6 7 0 0 0]\n"
          ]
        }
      ]
    },
    {
      "cell_type": "markdown",
      "source": [
        "## 4. Array Operations\n",
        "NumPy's power comes from its ability to perform operations on entire arrays efficiently.\n"
      ],
      "metadata": {
        "id": "R9aE5JWn9qnG"
      }
    },
    {
      "cell_type": "markdown",
      "source": [
        "### Element-wise Operations"
      ],
      "metadata": {
        "id": "3JQZ1CiY-bRs"
      }
    },
    {
      "cell_type": "code",
      "source": [
        "# Element-wise operations\n",
        "a = np.array([1, 2, 3, 4])\n",
        "b = np.array([5, 6, 7, 8])\n",
        "\n",
        "print(\"Array a:\", a)\n",
        "print(\"Array b:\", b)\n",
        "print(\"Addition:\", a + b)\n",
        "print(\"Subtraction:\", a - b)\n",
        "print(\"Multiplication:\", a * b)\n",
        "print(\"Division:\", a / b)\n",
        "print(\"Power:\", a ** 2)\n",
        "print(\"Square root:\", np.sqrt(a))\n"
      ],
      "metadata": {
        "colab": {
          "base_uri": "https://localhost:8080/"
        },
        "id": "9kih0jl29xWE",
        "outputId": "584c1ace-5485-4532-ddc4-d952d4abf981"
      },
      "execution_count": null,
      "outputs": [
        {
          "output_type": "stream",
          "name": "stdout",
          "text": [
            "Array a: [1 2 3 4]\n",
            "Array b: [5 6 7 8]\n",
            "Addition: [ 6  8 10 12]\n",
            "Subtraction: [-4 -4 -4 -4]\n",
            "Multiplication: [ 5 12 21 32]\n",
            "Division: [0.2        0.33333333 0.42857143 0.5       ]\n",
            "Power: [ 1  4  9 16]\n",
            "Square root: [1.         1.41421356 1.73205081 2.        ]\n"
          ]
        }
      ]
    },
    {
      "cell_type": "markdown",
      "source": [
        "### Universal Functions (ufuncs)\n",
        "Universal functions operate element-wise on arrays:\n"
      ],
      "metadata": {
        "id": "zV4sflfg-Vtd"
      }
    },
    {
      "cell_type": "code",
      "source": [
        "# Mathematical functions\n",
        "x = np.array([0, 30, 45, 60, 90])\n",
        "radians = np.radians(x)\n",
        "\n",
        "print(\"Angles in degrees:\", x)\n",
        "print(\"Angles in radians:\", np.round(radians, 3))\n",
        "print(\"Sine values:\", np.round(np.sin(radians), 3))\n",
        "print(\"Cosine values:\", np.round(np.cos(radians), 3))\n",
        "\n",
        "# Other mathematical functions\n",
        "values = np.array([1, 2, 3])\n",
        "print(\"Exponential:\", np.exp(values))\n",
        "print(\"Natural log:\", np.log([1, np.e, np.e**2]))\n",
        "print(\"Absolute values:\", np.abs([-1, -2, 3, -4]))\n"
      ],
      "metadata": {
        "colab": {
          "base_uri": "https://localhost:8080/"
        },
        "id": "ABF2qUEK99gN",
        "outputId": "5d7792fa-ead3-42e9-f222-42a7153cbcbf"
      },
      "execution_count": null,
      "outputs": [
        {
          "output_type": "stream",
          "name": "stdout",
          "text": [
            "Angles in degrees: [ 0 30 45 60 90]\n",
            "Angles in radians: [0.    0.524 0.785 1.047 1.571]\n",
            "Sine values: [0.    0.5   0.707 0.866 1.   ]\n",
            "Cosine values: [1.    0.866 0.707 0.5   0.   ]\n",
            "Exponential: [ 2.71828183  7.3890561  20.08553692]\n",
            "Natural log: [0. 1. 2.]\n",
            "Absolute values: [1 2 3 4]\n"
          ]
        }
      ]
    },
    {
      "cell_type": "markdown",
      "source": [
        "### Broadcasting\n",
        "Broadcasting allows operations between arrays of different shapes:\n"
      ],
      "metadata": {
        "id": "y5T9w4wY-NVi"
      }
    },
    {
      "cell_type": "code",
      "source": [
        "# Broadcasting examples\n",
        "scalar = 5\n",
        "array_1d = np.array([1, 2, 3, 4])\n",
        "array_2d = np.array([[1, 2], [3, 4]])\n",
        "\n",
        "print(\"Scalar + 1D array:\", scalar + array_1d)\n",
        "print(\"1D array shape:\", array_1d.shape)\n",
        "\n",
        "# Broadcasting with 2D array\n",
        "column_vector = np.array([[1], [2], [3]])\n",
        "row_vector = np.array([10, 20])\n",
        "\n",
        "print(\"Column vector shape:\", column_vector.shape)\n",
        "print(\"Row vector shape:\", row_vector.shape)\n",
        "print(\"Broadcasted addition:\\n\", column_vector + row_vector)\n"
      ],
      "metadata": {
        "colab": {
          "base_uri": "https://localhost:8080/"
        },
        "id": "MXv8MHZ8-I3z",
        "outputId": "5590bbc2-3fc4-4713-d4b4-6b76a0273bb9"
      },
      "execution_count": null,
      "outputs": [
        {
          "output_type": "stream",
          "name": "stdout",
          "text": [
            "Scalar + 1D array: [6 7 8 9]\n",
            "1D array shape: (4,)\n",
            "Column vector shape: (3, 1)\n",
            "Row vector shape: (2,)\n",
            "Broadcasted addition:\n",
            " [[11 21]\n",
            " [12 22]\n",
            " [13 23]]\n"
          ]
        }
      ]
    },
    {
      "cell_type": "markdown",
      "source": [
        "## 5. Array Manipulation\n",
        "### Reshaping Arrays\n",
        "Reshaping allows you to change the dimensions of an array without changing its data:\n"
      ],
      "metadata": {
        "id": "JIWuBPeJHb9U"
      }
    },
    {
      "cell_type": "code",
      "source": [
        "# Reshape arrays\n",
        "original = np.arange(12)\n",
        "print(\"Original array:\", original)\n",
        "print(\"Shape:\", original.shape)\n",
        "\n",
        "reshaped = original.reshape(3, 4)\n",
        "print(\"Reshaped (3x4):\\n\", reshaped)\n",
        "\n",
        "# Automatic dimension calculation\n",
        "auto_reshape = original.reshape(4, -1)  # -1 means \"calculate this dimension\"\n",
        "print(\"Auto reshaped (4, -1):\\n\", auto_reshape)\n",
        "\n",
        "# Flatten array\n",
        "flattened = reshaped.flatten()\n",
        "print(\"Flattened:\", flattened)\n",
        "\n",
        "# Transpose\n",
        "transposed = reshaped.T\n",
        "print(\"Transposed:\\n\", transposed)\n"
      ],
      "metadata": {
        "colab": {
          "base_uri": "https://localhost:8080/"
        },
        "id": "rLzbkb6qHGzt",
        "outputId": "57079317-8fac-4cd5-de3b-b345b7fd84e1"
      },
      "execution_count": null,
      "outputs": [
        {
          "output_type": "stream",
          "name": "stdout",
          "text": [
            "Original array: [ 0  1  2  3  4  5  6  7  8  9 10 11]\n",
            "Shape: (12,)\n",
            "Reshaped (3x4):\n",
            " [[ 0  1  2  3]\n",
            " [ 4  5  6  7]\n",
            " [ 8  9 10 11]]\n",
            "Auto reshaped (4, -1):\n",
            " [[ 0  1  2]\n",
            " [ 3  4  5]\n",
            " [ 6  7  8]\n",
            " [ 9 10 11]]\n",
            "Flattened: [ 0  1  2  3  4  5  6  7  8  9 10 11]\n",
            "Transposed:\n",
            " [[ 0  4  8]\n",
            " [ 1  5  9]\n",
            " [ 2  6 10]\n",
            " [ 3  7 11]]\n"
          ]
        }
      ]
    },
    {
      "cell_type": "code",
      "source": [
        "# Concatenation\n",
        "arr1 = np.array([[1, 2], [3, 4]])\n",
        "arr2 = np.array([[5, 6], [7, 8]])\n",
        "\n",
        "print(\"Array 1:\\n\", arr1)\n",
        "print(\"Array 2:\\n\", arr2)\n",
        "\n",
        "# Vertical stack\n",
        "vstack_result = np.vstack((arr1, arr2))\n",
        "print(\"Vertical stack:\\n\", vstack_result)\n",
        "\n",
        "# Horizontal stack\n",
        "hstack_result = np.hstack((arr1, arr2))\n",
        "print(\"Horizontal stack:\\n\", hstack_result)\n",
        "\n",
        "# Concatenate with axis parameter\n",
        "concat_axis0 = np.concatenate((arr1, arr2), axis=0)\n",
        "concat_axis1 = np.concatenate((arr1, arr2), axis=1)\n",
        "print(\"Concatenate axis=0:\\n\", concat_axis0)\n",
        "print(\"Concatenate axis=1:\\n\", concat_axis1)\n"
      ],
      "metadata": {
        "colab": {
          "base_uri": "https://localhost:8080/"
        },
        "id": "TuPnfX2DHf5i",
        "outputId": "e530403d-2fbc-4d70-8817-6d4a0f1133c1"
      },
      "execution_count": null,
      "outputs": [
        {
          "output_type": "stream",
          "name": "stdout",
          "text": [
            "Array 1:\n",
            " [[1 2]\n",
            " [3 4]]\n",
            "Array 2:\n",
            " [[5 6]\n",
            " [7 8]]\n",
            "Vertical stack:\n",
            " [[1 2]\n",
            " [3 4]\n",
            " [5 6]\n",
            " [7 8]]\n",
            "Horizontal stack:\n",
            " [[1 2 5 6]\n",
            " [3 4 7 8]]\n",
            "Concatenate axis=0:\n",
            " [[1 2]\n",
            " [3 4]\n",
            " [5 6]\n",
            " [7 8]]\n",
            "Concatenate axis=1:\n",
            " [[1 2 5 6]\n",
            " [3 4 7 8]]\n"
          ]
        }
      ]
    },
    {
      "cell_type": "markdown",
      "source": [
        "## 6. Statistical Operations\n",
        "NumPy provides comprehensive statistical functions:\n"
      ],
      "metadata": {
        "id": "l60kZPOj-pth"
      }
    },
    {
      "cell_type": "markdown",
      "source": [
        "### Basic Statistics"
      ],
      "metadata": {
        "id": "kniOf1fH-zOk"
      }
    },
    {
      "cell_type": "code",
      "source": [
        "# Statistical functions\n",
        "data = np.array([[1, 2, 3, 4],\n",
        "                 [5, 6, 7, 8],\n",
        "                 [9, 10, 11, 12]])\n",
        "\n",
        "print(\"Data:\\n\", data)\n",
        "print(\"Mean:\", np.mean(data))\n",
        "print(\"Mean along axis 0 (columns):\", np.mean(data, axis=0))\n",
        "print(\"Mean along axis 1 (rows):\", np.mean(data, axis=1))\n",
        "print(\"Standard deviation:\", np.std(data))\n",
        "print(\"Variance:\", np.var(data))\n",
        "print(\"Minimum:\", np.min(data))\n",
        "print(\"Maximum:\", np.max(data))\n",
        "print(\"Sum:\", np.sum(data))\n",
        "print(\"Median:\", np.median(data))\n"
      ],
      "metadata": {
        "colab": {
          "base_uri": "https://localhost:8080/"
        },
        "id": "sCurElz2-uaO",
        "outputId": "d02a0cd3-1d12-4123-f008-761fcc7f087f"
      },
      "execution_count": null,
      "outputs": [
        {
          "output_type": "stream",
          "name": "stdout",
          "text": [
            "Data:\n",
            " [[ 1  2  3  4]\n",
            " [ 5  6  7  8]\n",
            " [ 9 10 11 12]]\n",
            "Mean: 6.5\n",
            "Mean along axis 0 (columns): [5. 6. 7. 8.]\n",
            "Mean along axis 1 (rows): [ 2.5  6.5 10.5]\n",
            "Standard deviation: 3.452052529534663\n",
            "Variance: 11.916666666666666\n",
            "Minimum: 1\n",
            "Maximum: 12\n",
            "Sum: 78\n",
            "Median: 6.5\n"
          ]
        }
      ]
    },
    {
      "cell_type": "code",
      "source": [
        "# Statistical functions\n",
        "data = np.array([[1, 2, 3, 4],\n",
        "                 [5, 6, 7, 8],\n",
        "                 [9, 10, 11, 12]])\n",
        "\n",
        "print(\"Data:\\n\", data)\n",
        "print(\"Mean:\", np.mean(data))\n",
        "print(\"Mean along axis 0 (columns):\", np.mean(data, axis=0))\n",
        "print(\"Mean along axis 1 (rows):\", np.mean(data, axis=1))\n",
        "print(\"Standard deviation:\", np.std(data))\n",
        "print(\"Variance:\", np.var(data))\n",
        "print(\"Minimum:\", np.min(data))\n",
        "print(\"Maximum:\", np.max(data))\n",
        "print(\"Sum:\", np.sum(data))\n",
        "print(\"Median:\", np.median(data))\n"
      ],
      "metadata": {
        "colab": {
          "base_uri": "https://localhost:8080/"
        },
        "id": "irZQaxBtF0Uj",
        "outputId": "bbc54b78-b0db-4f3a-cac7-d23ceba7840f"
      },
      "execution_count": null,
      "outputs": [
        {
          "output_type": "stream",
          "name": "stdout",
          "text": [
            "Data:\n",
            " [[ 1  2  3  4]\n",
            " [ 5  6  7  8]\n",
            " [ 9 10 11 12]]\n",
            "Mean: 6.5\n",
            "Mean along axis 0 (columns): [5. 6. 7. 8.]\n",
            "Mean along axis 1 (rows): [ 2.5  6.5 10.5]\n",
            "Standard deviation: 3.452052529534663\n",
            "Variance: 11.916666666666666\n",
            "Minimum: 1\n",
            "Maximum: 12\n",
            "Sum: 78\n",
            "Median: 6.5\n"
          ]
        }
      ]
    },
    {
      "cell_type": "code",
      "source": [
        "# More statistical functions\n",
        "sample_data = np.random.normal(50, 15, 1000)  # Mean=50, std=15, 1000 samples\n",
        "\n",
        "print(\"Sample statistics:\")\n",
        "print(\"Mean:\", np.mean(sample_data))\n",
        "print(\"Median:\", np.median(sample_data))\n",
        "print(\"Standard deviation:\", np.std(sample_data))\n",
        "print(\"25th percentile:\", np.percentile(sample_data, 25))\n",
        "print(\"75th percentile:\", np.percentile(sample_data, 75))\n",
        "\n",
        "# Correlation and covariance\n",
        "x = np.random.randn(100)\n",
        "y = 2 * x + np.random.randn(100)  # y is correlated with x\n",
        "\n",
        "correlation_matrix = np.corrcoef(x, y)\n",
        "print(\"Correlation matrix:\\n\", correlation_matrix)\n",
        "\n",
        "covariance_matrix = np.cov(x, y)\n",
        "print(\"Covariance matrix:\\n\", covariance_matrix)\n"
      ],
      "metadata": {
        "id": "Z9rAWL3H-4rw"
      },
      "execution_count": null,
      "outputs": []
    },
    {
      "cell_type": "markdown",
      "source": [
        "## 7. Linear Algebra\n",
        "NumPy's linear algebra capabilities are essential for scientific computing:\n"
      ],
      "metadata": {
        "id": "h1CvImxO60AD"
      }
    },
    {
      "cell_type": "code",
      "source": [
        "# Matrix operations\n",
        "A = np.array([[1, 2], [3, 4]])\n",
        "B = np.array([[5, 6], [7, 8]])\n",
        "\n",
        "print(\"Matrix A:\\n\", A)\n",
        "print(\"Matrix B:\\n\", B)\n",
        "\n",
        "# Matrix multiplication\n",
        "matrix_mult = np.dot(A, B)\n",
        "print(\"Matrix multiplication A·B:\\n\", matrix_mult)\n",
        "\n",
        "# Alternative syntax (Python 3.5+)\n",
        "matrix_mult_alt = A @ B\n",
        "print(\"Matrix multiplication A@B:\\n\", matrix_mult_alt)\n",
        "\n",
        "# Element-wise multiplication\n",
        "element_mult = A * B\n",
        "print(\"Element-wise multiplication:\\n\", element_mult)\n",
        "\n"
      ],
      "metadata": {
        "colab": {
          "base_uri": "https://localhost:8080/"
        },
        "id": "zM99d2r1GTkP",
        "outputId": "c786f661-7e3f-4d68-cf38-e26eb578b65a"
      },
      "execution_count": null,
      "outputs": [
        {
          "output_type": "stream",
          "name": "stdout",
          "text": [
            "Matrix A:\n",
            " [[1 2]\n",
            " [3 4]]\n",
            "Matrix B:\n",
            " [[5 6]\n",
            " [7 8]]\n",
            "Matrix multiplication A·B:\n",
            " [[19 22]\n",
            " [43 50]]\n",
            "Matrix multiplication A@B:\n",
            " [[19 22]\n",
            " [43 50]]\n",
            "Element-wise multiplication:\n",
            " [[ 5 12]\n",
            " [21 32]]\n"
          ]
        }
      ]
    },
    {
      "cell_type": "code",
      "source": [
        "\n",
        "A = np.array([[4, 2], [1, 3]])\n",
        "print(\"Matrix A:\\n\", A)\n",
        "\n",
        "# Determinant\n",
        "det_A = np.linalg.det(A)\n",
        "print(\"Determinant of A:\", det_A)\n",
        "\n",
        "# Inverse\n",
        "inv_A = np.linalg.inv(A)\n",
        "print(\"Inverse of A:\\n\", inv_A)\n",
        "\n",
        "# Verify inverse: A * A^(-1) should be identity\n",
        "identity_check = A @ inv_A\n",
        "print(\"A * A^(-1) (should be identity):\\n\", np.round(identity_check, 10))\n",
        "\n",
        "# Eigenvalues and eigenvectors\n",
        "eigenvals, eigenvecs = np.linalg.eig(A)\n",
        "print(\"Eigenvalues:\", eigenvals)\n",
        "print(\"Eigenvectors:\\n\", eigenvecs)\n",
        "\n",
        "# Solving linear systems: Ax = b\n",
        "b = np.array([8, 5])\n",
        "x = np.linalg.solve(A, b)\n",
        "print(\"Solution to Ax = b:\", x)\n",
        "print(\"Verification Ax:\", A @ x)\n"
      ],
      "metadata": {
        "colab": {
          "base_uri": "https://localhost:8080/"
        },
        "id": "9w-hTQWuGwva",
        "outputId": "6c5de6c9-eaef-466b-90d2-6649b4c0f2eb"
      },
      "execution_count": null,
      "outputs": [
        {
          "output_type": "stream",
          "name": "stdout",
          "text": [
            "Matrix A:\n",
            " [[4 2]\n",
            " [1 3]]\n",
            "Determinant of A: 10.000000000000002\n",
            "Inverse of A:\n",
            " [[ 0.3 -0.2]\n",
            " [-0.1  0.4]]\n",
            "A * A^(-1) (should be identity):\n",
            " [[ 1.  0.]\n",
            " [-0.  1.]]\n",
            "Eigenvalues: [5. 2.]\n",
            "Eigenvectors:\n",
            " [[ 0.89442719 -0.70710678]\n",
            " [ 0.4472136   0.70710678]]\n",
            "Solution to Ax = b: [1.4 1.2]\n",
            "Verification Ax: [8. 5.]\n"
          ]
        }
      ]
    },
    {
      "cell_type": "code",
      "source": [],
      "metadata": {
        "id": "-Qfku6NUGyeD"
      },
      "execution_count": null,
      "outputs": []
    }
  ]
}