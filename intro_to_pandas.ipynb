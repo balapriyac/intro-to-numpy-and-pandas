{
  "nbformat": 4,
  "nbformat_minor": 0,
  "metadata": {
    "colab": {
      "provenance": []
    },
    "kernelspec": {
      "name": "python3",
      "display_name": "Python 3"
    },
    "language_info": {
      "name": "python"
    }
  },
  "cells": [
    {
      "cell_type": "markdown",
      "source": [
        "Pandas is a powerful, open-source data analysis and manipulation library for Python. It provides data structures and operations for manipulating numerical tables and time series data, making it the go-to tool for data analysis in Python.\n",
        "\n",
        "### Why Pandas?\n",
        "- Intuitive data structures: DataFrame and Series for structured data\n",
        "- Data alignment: Automatic alignment of data based on labels\n",
        "- Handling missing data: Built-in methods for dealing with missing values\n",
        "- Data I/O: Easy reading/writing of various file formats (CSV, Excel, JSON, SQL, etc.)\n",
        "- Data transformation: Powerful grouping, merging, and reshaping capabilities\n",
        "\n",
        "Let's start by importing the necessary libraries:\n"
      ],
      "metadata": {
        "id": "NfDFyHXIvgZ7"
      }
    },
    {
      "cell_type": "code",
      "execution_count": null,
      "metadata": {
        "id": "RVyxVTiBuTmP"
      },
      "outputs": [],
      "source": [
        "import pandas as pd\n",
        "import numpy as np"
      ]
    },
    {
      "cell_type": "markdown",
      "source": [
        "## 1. Core Data Structures\n",
        "Pandas has two primary data structures: Series (1D) and DataFrame (2D). Understanding these is fundamental to working with Pandas.\n",
        "\n",
        "### Series - 1D Labeled Array\n",
        "A Series is like a column in a spreadsheet or a 1D array with labels (index).\n"
      ],
      "metadata": {
        "id": "k6wOAFvdwfk5"
      }
    },
    {
      "cell_type": "code",
      "source": [
        "# Creating Series from different sources\n",
        "# From list\n",
        "series_from_list = pd.Series([1, 3, 5, 7, 9])\n",
        "print(\"Series from list:\")\n",
        "print(series_from_list)\n",
        "print(\"Type:\", type(series_from_list))\n",
        "\n",
        "# From dictionary\n",
        "series_from_dict = pd.Series({'a': 1, 'b': 2, 'c': 3, 'd': 4})\n",
        "print(\"Series from dictionary:\")\n",
        "print(series_from_dict)\n",
        "\n",
        "# With custom index\n",
        "series_custom_index = pd.Series([10, 20, 30, 40], index=['w', 'x', 'y', 'z'])\n",
        "print(\"\\nSeries with custom index:\")\n",
        "print(series_custom_index)\n"
      ],
      "metadata": {
        "colab": {
          "base_uri": "https://localhost:8080/"
        },
        "id": "S_bTnFLQwXWI",
        "outputId": "22407e7c-4aec-41f1-82e4-03852c591ede"
      },
      "execution_count": null,
      "outputs": [
        {
          "output_type": "stream",
          "name": "stdout",
          "text": [
            "Series from list:\n",
            "0    1\n",
            "1    3\n",
            "2    5\n",
            "3    7\n",
            "4    9\n",
            "dtype: int64\n",
            "Type: <class 'pandas.core.series.Series'>\n",
            "Series from dictionary:\n",
            "a    1\n",
            "b    2\n",
            "c    3\n",
            "d    4\n",
            "dtype: int64\n",
            "\n",
            "Series with custom index:\n",
            "w    10\n",
            "x    20\n",
            "y    30\n",
            "z    40\n",
            "dtype: int64\n"
          ]
        }
      ]
    },
    {
      "cell_type": "markdown",
      "source": [
        "Accessing Series Elements"
      ],
      "metadata": {
        "id": "45wb6cAew4c_"
      }
    },
    {
      "cell_type": "code",
      "source": [
        "\n",
        "# Accessing elements\n",
        "print(\"Value at index 'b':\", series_from_dict['b'])\n",
        "print(\"Multiple values:\", series_from_dict[['a', 'c']])\n",
        "print(\"First three elements:\", series_from_dict[:3])\n",
        "print(\"Boolean indexing:\", series_from_dict[series_from_dict > 2])\n"
      ],
      "metadata": {
        "colab": {
          "base_uri": "https://localhost:8080/"
        },
        "id": "p7x0OIgQwqAU",
        "outputId": "9606a0b0-78ee-43e4-eba9-bce6b70e9cd2"
      },
      "execution_count": null,
      "outputs": [
        {
          "output_type": "stream",
          "name": "stdout",
          "text": [
            "Value at index 'b': 2\n",
            "Multiple values: a    1\n",
            "c    3\n",
            "dtype: int64\n",
            "First three elements: a    1\n",
            "b    2\n",
            "c    3\n",
            "dtype: int64\n",
            "Boolean indexing: c    3\n",
            "d    4\n",
            "dtype: int64\n"
          ]
        }
      ]
    },
    {
      "cell_type": "markdown",
      "source": [
        "### DataFrame - 2D Labeled Data Structure\n",
        "A DataFrame is like a spreadsheet or SQL table - it has rows and columns with labels.\n"
      ],
      "metadata": {
        "id": "QrYpJlFOxEfi"
      }
    },
    {
      "cell_type": "code",
      "source": [
        "# Creating DataFrames from dictionary\n",
        "data = {\n",
        "    'Name': ['Alice', 'Bob', 'Charlie', 'Diana', 'Eve'],\n",
        "    'Age': [25, 30, 35, 28, 32],\n",
        "    'City': ['New York', 'London', 'Tokyo', 'Paris', 'Sydney'],\n",
        "    'Salary': [50000, 60000, 70000, 55000, 65000]\n",
        "}\n",
        "\n",
        "df = pd.DataFrame(data)\n",
        "print(\"DataFrame from dictionary:\")\n",
        "print(df)\n"
      ],
      "metadata": {
        "colab": {
          "base_uri": "https://localhost:8080/"
        },
        "id": "c0Nx_Likw6Kc",
        "outputId": "db14ade0-a98e-417f-e569-91ade21d78a2"
      },
      "execution_count": null,
      "outputs": [
        {
          "output_type": "stream",
          "name": "stdout",
          "text": [
            "DataFrame from dictionary:\n",
            "      Name  Age      City  Salary\n",
            "0    Alice   25  New York   50000\n",
            "1      Bob   30    London   60000\n",
            "2  Charlie   35     Tokyo   70000\n",
            "3    Diana   28     Paris   55000\n",
            "4      Eve   32    Sydney   65000\n"
          ]
        }
      ]
    },
    {
      "cell_type": "markdown",
      "source": [
        "DataFrame Properties"
      ],
      "metadata": {
        "id": "r9ls24RQxcCT"
      }
    },
    {
      "cell_type": "code",
      "source": [
        "# Basic information about DataFrame\n",
        "print(\"DataFrame shape:\", df.shape)\n",
        "print(\"Columns:\", df.columns.tolist())\n",
        "print(\"Index:\", df.index.tolist())\n",
        "print(\"\\nData types:\")\n",
        "print(df.dtypes)\n",
        "print(\"\\nBasic info:\")\n",
        "df.info()\n"
      ],
      "metadata": {
        "colab": {
          "base_uri": "https://localhost:8080/"
        },
        "id": "4ovXwiBaxOQO",
        "outputId": "0de45514-b42e-4d41-cae9-804eabbd960f"
      },
      "execution_count": null,
      "outputs": [
        {
          "output_type": "stream",
          "name": "stdout",
          "text": [
            "DataFrame shape: (5, 4)\n",
            "Columns: ['Name', 'Age', 'City', 'Salary']\n",
            "Index: [0, 1, 2, 3, 4]\n",
            "\n",
            "Data types:\n",
            "Name      object\n",
            "Age        int64\n",
            "City      object\n",
            "Salary     int64\n",
            "dtype: object\n",
            "\n",
            "Basic info:\n",
            "<class 'pandas.core.frame.DataFrame'>\n",
            "RangeIndex: 5 entries, 0 to 4\n",
            "Data columns (total 4 columns):\n",
            " #   Column  Non-Null Count  Dtype \n",
            "---  ------  --------------  ----- \n",
            " 0   Name    5 non-null      object\n",
            " 1   Age     5 non-null      int64 \n",
            " 2   City    5 non-null      object\n",
            " 3   Salary  5 non-null      int64 \n",
            "dtypes: int64(2), object(2)\n",
            "memory usage: 292.0+ bytes\n"
          ]
        }
      ]
    },
    {
      "cell_type": "markdown",
      "source": [
        "### Creating Sample Data\n",
        "First, let's create some sample data to work with:"
      ],
      "metadata": {
        "id": "D5hUo73kx736"
      }
    },
    {
      "cell_type": "code",
      "source": [
        "\n",
        "# Create sample data for demonstration\n",
        "sample_data = {\n",
        "    'Product': ['Laptop', 'Mouse', 'Keyboard', 'Monitor', 'Speaker'],\n",
        "    'Category': ['Electronics', 'Electronics', 'Electronics', 'Electronics', 'Electronics'],\n",
        "    'Price': [999.99, 25.50, 75.00, 299.99, 149.99],\n",
        "    'Stock': [50, 200, 150, 75, 100],\n",
        "    'Rating': [4.5, 4.2, 4.0, 4.7, 4.1]\n",
        "}\n",
        "\n",
        "products_df = pd.DataFrame(sample_data)\n",
        "print(\"Sample products data:\")\n",
        "print(products_df)\n"
      ],
      "metadata": {
        "colab": {
          "base_uri": "https://localhost:8080/"
        },
        "id": "I-51rF6Mx5_5",
        "outputId": "0f531b5f-5db6-484b-8985-1efbb47e8e59"
      },
      "execution_count": null,
      "outputs": [
        {
          "output_type": "stream",
          "name": "stdout",
          "text": [
            "Sample products data:\n",
            "    Product     Category   Price  Stock  Rating\n",
            "0    Laptop  Electronics  999.99     50     4.5\n",
            "1     Mouse  Electronics   25.50    200     4.2\n",
            "2  Keyboard  Electronics   75.00    150     4.0\n",
            "3   Monitor  Electronics  299.99     75     4.7\n",
            "4   Speaker  Electronics  149.99    100     4.1\n"
          ]
        }
      ]
    },
    {
      "cell_type": "code",
      "source": [
        "# Save to CSV (in practice, you'd specify a filename)\n",
        "print(\"CSV export example:\")\n",
        "csv_string = products_df.to_csv(index=False)\n",
        "print(csv_string)\n"
      ],
      "metadata": {
        "colab": {
          "base_uri": "https://localhost:8080/"
        },
        "id": "vF06S5Kqx9zd",
        "outputId": "763bd697-fa3c-4f27-e69c-9c1dc9076cce"
      },
      "execution_count": null,
      "outputs": [
        {
          "output_type": "stream",
          "name": "stdout",
          "text": [
            "CSV export example:\n",
            "Product,Category,Price,Stock,Rating\n",
            "Laptop,Electronics,999.99,50,4.5\n",
            "Mouse,Electronics,25.5,200,4.2\n",
            "Keyboard,Electronics,75.0,150,4.0\n",
            "Monitor,Electronics,299.99,75,4.7\n",
            "Speaker,Electronics,149.99,100,4.1\n",
            "\n"
          ]
        }
      ]
    },
    {
      "cell_type": "markdown",
      "source": [
        "# Common I/O operations (examples of syntax)\n",
        "```\n",
        "print(\"Common file operations:\")\n",
        "print(\"pd.read_csv('filename.csv') - Load CSV files\")\n",
        "print(\"pd.read_excel('filename.xlsx') - Load Excel files\")\n",
        "print(\"pd.read_json('filename.json') - Load JSON files\")\n",
        "print(\"pd.read_sql('SELECT * FROM table', connection) - Load from SQL\")\n",
        "print(\"\\nSaving data:\")\n",
        "print(\"df.to_csv('filename.csv') - Save to CSV\")\n",
        "print(\"df.to_excel('filename.xlsx') - Save to Excel\")\n",
        "print(\"df.to_json('filename.json') - Save to JSON\")\n",
        "```"
      ],
      "metadata": {
        "id": "Eh1xKnYJyp6X"
      }
    },
    {
      "cell_type": "markdown",
      "source": [
        "```\n",
        "# CSV reading parameters (examples)\n",
        "print(\"CSV reading parameters:\")\n",
        "print(\"pd.read_csv('file.csv', sep=';')  # Different separator\")\n",
        "print(\"pd.read_csv('file.csv', header=None)  # No header row\")\n",
        "print(\"pd.read_csv('file.csv', index_col=0)  # Use first column as index\")\n",
        "print(\"pd.read_csv('file.csv', usecols=['A', 'C'])  # Select specific columns\")\n",
        "print(\"pd.read_csv('file.csv', nrows=100)  # Read only first 100 rows\")\n",
        "```\n",
        "**Practice**:\n",
        "```\n",
        "df = pd.read_csv('filename.csv')\n",
        "print(\"\\nLoading data (simulated):\")\n",
        "print(\"pd.read_csv() would load data from file\")\n",
        "```\n",
        "\n",
        "```\n",
        "# Other common formats\n",
        "print(\"\\nOther I/O operations:\")\n",
        "print(\"pd.read_excel() - Load Excel files\")\n",
        "print(\"pd.read_json() - Load JSON files\")\n",
        "print(\"pd.read_sql() - Load from SQL databases\")\n",
        "print(\"df.to_excel() - Save to Excel\")\n",
        "print(\"df.to_json() - Save to JSON\")\n",
        "```"
      ],
      "metadata": {
        "id": "XCGofAMxyRe-"
      }
    },
    {
      "cell_type": "markdown",
      "source": [
        "## 5. Data Cleaning and Preparation"
      ],
      "metadata": {
        "id": "ryceBfrv0mBn"
      }
    },
    {
      "cell_type": "code",
      "source": [
        "# Create data with missing values and duplicates\n",
        "dirty_data = pd.DataFrame({\n",
        "    'Name': ['Alice', 'Bob', 'Charlie', 'Bob', 'Eve', 'Alice'],\n",
        "    'Age': [25, 30, np.nan, 30, 32, 25],\n",
        "    'Score': [85, 90, 78, 90, np.nan, 85],\n",
        "    'Grade': ['A', 'A', 'B', 'A', 'B', 'A']\n",
        "})\n",
        "\n",
        "print(\"Dirty data:\")\n",
        "print(dirty_data)"
      ],
      "metadata": {
        "colab": {
          "base_uri": "https://localhost:8080/"
        },
        "id": "TeU8h9fIzbfZ",
        "outputId": "766cb2f7-16aa-409c-bfa6-a3507e2c5518"
      },
      "execution_count": null,
      "outputs": [
        {
          "output_type": "stream",
          "name": "stdout",
          "text": [
            "Dirty data:\n",
            "      Name   Age  Score Grade\n",
            "0    Alice  25.0   85.0     A\n",
            "1      Bob  30.0   90.0     A\n",
            "2  Charlie   NaN   78.0     B\n",
            "3      Bob  30.0   90.0     A\n",
            "4      Eve  32.0    NaN     B\n",
            "5    Alice  25.0   85.0     A\n"
          ]
        }
      ]
    },
    {
      "cell_type": "code",
      "source": [
        "# Handling missing values\n",
        "print(\"\\nMissing values:\")\n",
        "print(dirty_data.isnull().sum())"
      ],
      "metadata": {
        "colab": {
          "base_uri": "https://localhost:8080/"
        },
        "id": "02he3j9Lz6ET",
        "outputId": "d19394f3-dd9f-4a5e-f0d2-cc8c638e4616"
      },
      "execution_count": null,
      "outputs": [
        {
          "output_type": "stream",
          "name": "stdout",
          "text": [
            "\n",
            "Missing values:\n",
            "Name     0\n",
            "Age      1\n",
            "Score    1\n",
            "Grade    0\n",
            "dtype: int64\n"
          ]
        }
      ]
    },
    {
      "cell_type": "code",
      "source": [
        "# Fill missing values\n",
        "filled_data = dirty_data\n",
        "filled_data['Age'].fillna(filled_data['Age'].mean(), inplace=True)\n",
        "filled_data['Score'].fillna(filled_data['Score'].mean(), inplace=True)\n",
        "print(\"\\nAfter filling missing values:\")\n",
        "print(filled_data)"
      ],
      "metadata": {
        "colab": {
          "base_uri": "https://localhost:8080/"
        },
        "id": "-ltjukEnzib6",
        "outputId": "c2259bd2-ee2f-40da-8e0f-2a56b9ea0764"
      },
      "execution_count": null,
      "outputs": [
        {
          "output_type": "stream",
          "name": "stdout",
          "text": [
            "\n",
            "After filling missing values:\n",
            "      Name   Age  Score Grade\n",
            "0    Alice  25.0   85.0     A\n",
            "1      Bob  30.0   90.0     A\n",
            "2  Charlie  28.4   78.0     B\n",
            "3      Bob  30.0   90.0     A\n",
            "4      Eve  32.0   85.6     B\n",
            "5    Alice  25.0   85.0     A\n"
          ]
        },
        {
          "output_type": "stream",
          "name": "stderr",
          "text": [
            "<ipython-input-19-1ae7bcb9fa59>:3: FutureWarning: A value is trying to be set on a copy of a DataFrame or Series through chained assignment using an inplace method.\n",
            "The behavior will change in pandas 3.0. This inplace method will never work because the intermediate object on which we are setting values always behaves as a copy.\n",
            "\n",
            "For example, when doing 'df[col].method(value, inplace=True)', try using 'df.method({col: value}, inplace=True)' or df[col] = df[col].method(value) instead, to perform the operation inplace on the original object.\n",
            "\n",
            "\n",
            "  filled_data['Age'].fillna(filled_data['Age'].mean(), inplace=True)\n",
            "<ipython-input-19-1ae7bcb9fa59>:4: FutureWarning: A value is trying to be set on a copy of a DataFrame or Series through chained assignment using an inplace method.\n",
            "The behavior will change in pandas 3.0. This inplace method will never work because the intermediate object on which we are setting values always behaves as a copy.\n",
            "\n",
            "For example, when doing 'df[col].method(value, inplace=True)', try using 'df.method({col: value}, inplace=True)' or df[col] = df[col].method(value) instead, to perform the operation inplace on the original object.\n",
            "\n",
            "\n",
            "  filled_data['Score'].fillna(filled_data['Score'].mean(), inplace=True)\n"
          ]
        }
      ]
    },
    {
      "cell_type": "code",
      "source": [
        "# # Drop missing values\n",
        "# dropped_data = dirty_data.dropna()\n",
        "# print(f\"\\nAfter dropping missing values ({len(dropped_data)} rows):\")\n",
        "# print(dropped_data)"
      ],
      "metadata": {
        "id": "Mb7-htK7zjuP"
      },
      "execution_count": null,
      "outputs": []
    },
    {
      "cell_type": "code",
      "source": [
        "# Handling duplicates\n",
        "print(f\"\\nDuplicate rows: {dirty_data.duplicated().sum()}\")\n",
        "unique_data = dirty_data.drop_duplicates()\n",
        "print(f\"After removing duplicates ({len(unique_data)} rows):\")\n",
        "print(unique_data)"
      ],
      "metadata": {
        "colab": {
          "base_uri": "https://localhost:8080/"
        },
        "id": "03QNUCT5zkPe",
        "outputId": "4baaf97d-0284-487a-fee3-7d0818cdfdf0"
      },
      "execution_count": null,
      "outputs": [
        {
          "output_type": "stream",
          "name": "stdout",
          "text": [
            "\n",
            "Duplicate rows: 2\n",
            "After removing duplicates (4 rows):\n",
            "      Name   Age  Score Grade\n",
            "0    Alice  25.0   85.0     A\n",
            "1      Bob  30.0   90.0     A\n",
            "2  Charlie  28.4   78.0     B\n",
            "4      Eve  32.0   85.6     B\n"
          ]
        }
      ]
    },
    {
      "cell_type": "markdown",
      "source": [
        "## 6. Data Transformation"
      ],
      "metadata": {
        "id": "XT6umoeO3MJC"
      }
    },
    {
      "cell_type": "code",
      "source": [
        "# Create sample employee data\n",
        "employees = pd.DataFrame({\n",
        "    'Name': ['Alice Smith', 'Bob Johnson', 'Charlie Brown', 'Diana Davis'],\n",
        "    'Department': ['Engineering', 'Sales', 'Engineering', 'Marketing'],\n",
        "    'Salary': [75000, 65000, 80000, 70000],\n",
        "    'Join_Date': ['2020-01-15', '2019-03-20', '2021-06-10', '2020-11-05']\n",
        "})\n",
        "\n",
        "print(\"Original employee data:\")\n",
        "print(employees)\n",
        "\n",
        "# String operations\n",
        "employees['First_Name'] = employees['Name'].str.split().str[0]\n",
        "employees['Last_Name'] = employees['Name'].str.split().str[1]\n",
        "employees['Name_Length'] = employees['Name'].str.len()\n",
        "\n",
        "print(\"\\nAfter string operations:\")\n",
        "print(employees[['Name', 'First_Name', 'Last_Name', 'Name_Length']])\n",
        "\n",
        "# Date operations\n",
        "employees['Join_Date'] = pd.to_datetime(employees['Join_Date'])\n",
        "employees['Years_Employed'] = (pd.Timestamp.now() - employees['Join_Date']).dt.days / 365.25\n",
        "\n",
        "print(\"\\nAfter date operations:\")\n",
        "print(employees[['Name', 'Join_Date', 'Years_Employed']])\n",
        "\n",
        "# Apply custom functions\n",
        "def salary_category(salary):\n",
        "    if salary < 70000:\n",
        "        return 'Low'\n",
        "    elif salary < 80000:\n",
        "        return 'Medium'\n",
        "    else:\n",
        "        return 'High'\n",
        "\n",
        "employees['Salary_Category'] = employees['Salary'].apply(salary_category)\n",
        "print(\"\\nAfter applying custom function:\")\n",
        "print(employees[['Name', 'Salary', 'Salary_Category']])\n",
        "\n",
        "# Lambda functions\n",
        "employees['Salary_Bonus'] = employees['Salary'].apply(lambda x: x * 0.1)\n",
        "print(\"\\nWith salary bonus:\")\n",
        "print(employees[['Name', 'Salary', 'Salary_Bonus']])\n"
      ],
      "metadata": {
        "colab": {
          "base_uri": "https://localhost:8080/"
        },
        "id": "cBRbOVtS0bZU",
        "outputId": "56dfd11f-5d9b-42a3-f519-dc57aec20e59"
      },
      "execution_count": null,
      "outputs": [
        {
          "output_type": "stream",
          "name": "stdout",
          "text": [
            "Original employee data:\n",
            "            Name   Department  Salary   Join_Date\n",
            "0    Alice Smith  Engineering   75000  2020-01-15\n",
            "1    Bob Johnson        Sales   65000  2019-03-20\n",
            "2  Charlie Brown  Engineering   80000  2021-06-10\n",
            "3    Diana Davis    Marketing   70000  2020-11-05\n",
            "\n",
            "After string operations:\n",
            "            Name First_Name Last_Name  Name_Length\n",
            "0    Alice Smith      Alice     Smith           11\n",
            "1    Bob Johnson        Bob   Johnson           11\n",
            "2  Charlie Brown    Charlie     Brown           13\n",
            "3    Diana Davis      Diana     Davis           11\n",
            "\n",
            "After date operations:\n",
            "            Name  Join_Date  Years_Employed\n",
            "0    Alice Smith 2020-01-15        5.399042\n",
            "1    Bob Johnson 2019-03-20        6.223135\n",
            "2  Charlie Brown 2021-06-10        3.997262\n",
            "3    Diana Davis 2020-11-05        4.591376\n",
            "\n",
            "After applying custom function:\n",
            "            Name  Salary Salary_Category\n",
            "0    Alice Smith   75000          Medium\n",
            "1    Bob Johnson   65000             Low\n",
            "2  Charlie Brown   80000            High\n",
            "3    Diana Davis   70000          Medium\n",
            "\n",
            "With salary bonus:\n",
            "            Name  Salary  Salary_Bonus\n",
            "0    Alice Smith   75000        7500.0\n",
            "1    Bob Johnson   65000        6500.0\n",
            "2  Charlie Brown   80000        8000.0\n",
            "3    Diana Davis   70000        7000.0\n"
          ]
        }
      ]
    },
    {
      "cell_type": "code",
      "source": [
        "# Create sales data for grouping examples\n",
        "sales_data_agg = pd.DataFrame({\n",
        "    'Region': ['North', 'South', 'North', 'East', 'West', 'South', 'East', 'West'],\n",
        "    'Product': ['A', 'A', 'B', 'A', 'B', 'B', 'A', 'A'],\n",
        "    'Sales': [100, 150, 200, 120, 180, 90, 110, 160],\n",
        "    'Profit': [20, 30, 50, 25, 45, 15, 22, 35],\n",
        "    'Quarter': ['Q1', 'Q1', 'Q2', 'Q1', 'Q2', 'Q2', 'Q1', 'Q2']\n",
        "})\n",
        "\n",
        "print(\"Sales data for aggregation:\")\n",
        "print(sales_data_agg)\n",
        "\n",
        "# Basic grouping\n",
        "region_stats = sales_data_agg.groupby('Region').agg({\n",
        "    'Sales': ['sum', 'mean', 'count'],\n",
        "    'Profit': ['sum', 'mean']\n",
        "})\n",
        "print(\"\\nGrouped by Region:\")\n",
        "print(region_stats)\n",
        "\n",
        "# Multiple grouping\n",
        "multi_group = sales_data_agg.groupby(['Region', 'Product']).sum()\n",
        "print(\"\\nGrouped by Region and Product:\")\n",
        "print(multi_group)\n",
        "\n",
        "# Custom aggregation functions\n",
        "def range_calc(series):\n",
        "    return series.max() - series.min()\n",
        "\n",
        "custom_agg = sales_data_agg.groupby('Region').agg({\n",
        "    'Sales': ['mean', 'std', range_calc],\n",
        "    'Profit': ['sum', 'mean']\n",
        "})\n",
        "print(\"\\nCustom aggregation:\")\n",
        "print(custom_agg)\n",
        "\n",
        "# Pivot tables\n",
        "pivot_table = sales_data_agg.pivot_table(\n",
        "    values='Sales',\n",
        "    index='Region',\n",
        "    columns='Product',\n",
        "    aggfunc='sum',\n",
        "    fill_value=0\n",
        ")\n",
        "print(\"\\nPivot table:\")\n",
        "print(pivot_table)\n"
      ],
      "metadata": {
        "colab": {
          "base_uri": "https://localhost:8080/"
        },
        "id": "n5nScpcg0zlL",
        "outputId": "93f76d7e-1622-4b35-9bdb-2ae1c5518ab5"
      },
      "execution_count": null,
      "outputs": [
        {
          "output_type": "stream",
          "name": "stdout",
          "text": [
            "Sales data for aggregation:\n",
            "  Region Product  Sales  Profit Quarter\n",
            "0  North       A    100      20      Q1\n",
            "1  South       A    150      30      Q1\n",
            "2  North       B    200      50      Q2\n",
            "3   East       A    120      25      Q1\n",
            "4   West       B    180      45      Q2\n",
            "5  South       B     90      15      Q2\n",
            "6   East       A    110      22      Q1\n",
            "7   West       A    160      35      Q2\n",
            "\n",
            "Grouped by Region:\n",
            "       Sales              Profit      \n",
            "         sum   mean count    sum  mean\n",
            "Region                                \n",
            "East     230  115.0     2     47  23.5\n",
            "North    300  150.0     2     70  35.0\n",
            "South    240  120.0     2     45  22.5\n",
            "West     340  170.0     2     80  40.0\n",
            "\n",
            "Grouped by Region and Product:\n",
            "                Sales  Profit Quarter\n",
            "Region Product                       \n",
            "East   A          230      47    Q1Q1\n",
            "North  A          100      20      Q1\n",
            "       B          200      50      Q2\n",
            "South  A          150      30      Q1\n",
            "       B           90      15      Q2\n",
            "West   A          160      35      Q2\n",
            "       B          180      45      Q2\n",
            "\n",
            "Custom aggregation:\n",
            "        Sales                       Profit      \n",
            "         mean        std range_calc    sum  mean\n",
            "Region                                          \n",
            "East    115.0   7.071068         10     47  23.5\n",
            "North   150.0  70.710678        100     70  35.0\n",
            "South   120.0  42.426407         60     45  22.5\n",
            "West    170.0  14.142136         20     80  40.0\n",
            "\n",
            "Pivot table:\n",
            "Product    A    B\n",
            "Region           \n",
            "East     230    0\n",
            "North    100  200\n",
            "South    150   90\n",
            "West     160  180\n"
          ]
        }
      ]
    },
    {
      "cell_type": "code",
      "source": [],
      "metadata": {
        "id": "40Scl9pR3f9N"
      },
      "execution_count": null,
      "outputs": []
    }
  ]
}